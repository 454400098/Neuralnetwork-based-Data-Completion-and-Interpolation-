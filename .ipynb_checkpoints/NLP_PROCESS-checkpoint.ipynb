{
 "cells": [
  {
   "cell_type": "markdown",
   "metadata": {},
   "source": [
    "# NO MACHIING LEARNING LIBRARY USED FOR TRAINING/PREDICTION/CLASSIFCATION"
   ]
  },
  {
   "cell_type": "code",
   "execution_count": 280,
   "metadata": {},
   "outputs": [],
   "source": [
    "from nltk.stem import PorterStemmer\n",
    "import re\n",
    "from nltk.corpus import stopwords\n",
    "from sklearn.feature_extraction.text import CountVectorizer\n",
    "import pandas as pd\n",
    "from sklearn.feature_extraction.text import TfidfTransformer\n",
    "from scipy.sparse import csr_matrix\n",
    "import numpy as np\n",
    "from sklearn.model_selection import train_test_split\n",
    "import math\n",
    "from nltk.corpus import stopwords"
   ]
  },
  {
   "cell_type": "markdown",
   "metadata": {},
   "source": [
    "# Why NLP?\n",
    "combine manylabs with training('train.csv') daset\n",
    "apply count vectorizer to both of them together\n",
    "only train a model based on logistic regression using training dataset\n",
    "use trained model to analyze sentiment of manylabs highpower and low power column\n",
    "create a CSV FILE TO store sentiment for [highpower] [lowpoer] for each candidate"
   ]
  },
  {
   "cell_type": "code",
   "execution_count": 232,
   "metadata": {},
   "outputs": [],
   "source": [
    "class Logistic:\n",
    "    def __init__(self,rate,iteration):\n",
    "        self.rate = rate\n",
    "        self.weights = None\n",
    "        self.iteration = iteration\n",
    "    \n",
    "    def sigmoid(self,z):\n",
    "        return 1/(1+np.exp(-z))\n",
    "    \n",
    "    def loss(self,h, y):\n",
    "        return (-y * np.log(h) - (1 - y) * np.log(1 - h)).mean()\n",
    "    \n",
    "    def gradient_descent(self,X, h, y):\n",
    "        return np.dot(X.T, (h - y)) / y.shape[0]\n",
    "\n",
    "    def update_weight_loss(self,weight, learning_rate, gradient):\n",
    "        return weight - learning_rate * gradient\n",
    "    \n",
    "    def initialize_parameters(self,X):\n",
    "        self.weights = np.random.randn(len(X[0])) * 0.01\n",
    "        \n",
    "    def fit(self,X,y):\n",
    "        self.initialize_parameters(X)\n",
    "        #gradient descent\n",
    "        for i in range(self.iteration):\n",
    "            h = self.sigmoid(np.dot(X,self.weights))\n",
    "            gradient = self.gradient_descent(X,h,y)\n",
    "            self.weights = self.update_weight_loss(self.weights,self.rate,gradient)\n",
    "            if i % 10 == 0:\n",
    "                print('current iter is: ', i)\n",
    "    def predict(self,X):\n",
    "        ans = self.sigmoid(np.dot(X,self.weights))\n",
    "        for i in range(len(ans)):\n",
    "            if ans[i] < 0.5:\n",
    "                ans[i] = 0\n",
    "            else:\n",
    "                ans[i] = 1\n",
    "        return ans\n",
    "    \n",
    "    def predict_no_threshold(self,X):\n",
    "        ans = self.sigmoid(np.dot(X,self.weights))\n",
    "        ans_with_threshold = []\n",
    "        for i in range(len(ans)):\n",
    "            if(ans[i]) < 0.5 :\n",
    "                ans_with_threshold.append(0)\n",
    "            elif ans[i] == 0.5:\n",
    "                ans_with_threshold.append(0.5)\n",
    "            elif ans[i] > 0.5:\n",
    "                ans_with_threshold.append(1)\n",
    "        return ans,ans_with_threshold\n",
    "    \n",
    "    def test_accuracy(self,X,y):\n",
    "        cor = 0\n",
    "        total = len(y)\n",
    "        for i in range(total):\n",
    "            if X[i] == y[i]:\n",
    "                cor+=1\n",
    "        \n",
    "        print(\"predict accuracy is: \", cor/total)\n",
    "        return cor/total\n",
    "        "
   ]
  },
  {
   "cell_type": "code",
   "execution_count": 93,
   "metadata": {},
   "outputs": [],
   "source": [
    "def create_array_for_training_testing_sent_data():\n",
    "    train = pd.read_csv('data/train.csv',encoding='latin-1')\n",
    "    test = pd.read_csv('data/test.csv',encoding='latin-1')\n",
    "    train = train[0:10000]\n",
    "#     test = test[0:8000]\n",
    "    #create list to hold all data\n",
    "    train_tags = train['Sentiment'].values\n",
    "    train_text = train['SentimentText'].values\n",
    "\n",
    "    return train_text,train_tags"
   ]
  },
  {
   "cell_type": "code",
   "execution_count": 94,
   "metadata": {},
   "outputs": [],
   "source": [
    "train_text,train_tags = create_array_for_training_testing_sent_data()"
   ]
  },
  {
   "cell_type": "markdown",
   "metadata": {},
   "source": [
    "# CREATE df to store manylab text column"
   ]
  },
  {
   "cell_type": "code",
   "execution_count": 248,
   "metadata": {},
   "outputs": [],
   "source": [
    "def many_lab_array():\n",
    "    df3 = pd.read_csv('./ML3AllSites.csv', sep=',',encoding='ISO-8859-1')\n",
    "    df = pd.read_csv('./Tab.delimited.Cleaned.dataset.WITH.variable.labels.csv', sep='\\t',encoding='ISO-8859-1')\n",
    "    many_lab_text = df3['lowpower'].values\n",
    "    return many_lab_text\n",
    "    "
   ]
  },
  {
   "cell_type": "code",
   "execution_count": 172,
   "metadata": {},
   "outputs": [],
   "source": [
    "def processnull(arr):\n",
    "    arrnew = []\n",
    "    for i in range(len(arr)):\n",
    "        if type(arr[i]) == float and math.isnan(arr[i]) :\n",
    "            arrnew.append('null')\n",
    "        else:\n",
    "            arrnew.append(arr[i])\n",
    "    return arrnew"
   ]
  },
  {
   "cell_type": "markdown",
   "metadata": {},
   "source": [
    "# Clean dataset into regular expression"
   ]
  },
  {
   "cell_type": "code",
   "execution_count": 107,
   "metadata": {},
   "outputs": [],
   "source": [
    "def preprocess_reviews(reviews):\n",
    "\n",
    "    REPLACE_NO_SPACE = re.compile(\"(\\.)|(\\;)|(\\:)|(\\!)|(\\?)|(\\,)|(\\\")|(\\()|(\\))|(\\[)|(\\])|(\\d+)\")\n",
    "    REPLACE_WITH_SPACE = re.compile(\"(<br\\s*/><br\\s*/>)|(\\-)|(\\/)\")\n",
    "    NO_SPACE = \"\"\n",
    "    SPACE = \" \"\n",
    "    \n",
    "    reviews = [REPLACE_NO_SPACE.sub(NO_SPACE, line.lower()) for line in reviews]\n",
    "    reviews = [REPLACE_WITH_SPACE.sub(SPACE, line) for line in reviews]\n",
    "    \n",
    "    return reviews\n",
    "\n",
    "reviews_train_clean = preprocess_reviews(train_text)\n",
    "# reviews_test_clean = preprocess_reviews(reviews_test)"
   ]
  },
  {
   "cell_type": "markdown",
   "metadata": {},
   "source": [
    "# n-grams size = 1,2\n",
    "# STOP_WORDS"
   ]
  },
  {
   "cell_type": "code",
   "execution_count": 281,
   "metadata": {},
   "outputs": [],
   "source": [
    "def data_preprocessing(reviews_train_clean):\n",
    "    stop_words = stopwords.words('english')\n",
    "    ngram_vectorizer = CountVectorizer(binary=True,ngram_range=(1,2),stop_words= stop_words)\n",
    "    ngram_vectorizer.fit(reviews_train_clean)\n",
    "    X = ngram_vectorizer.transform(reviews_train_clean)\n",
    "    return X\n",
    "    "
   ]
  },
  {
   "cell_type": "code",
   "execution_count": 178,
   "metadata": {},
   "outputs": [],
   "source": [
    "#append dataset into og\n",
    "def append(og,lab_arr):\n",
    "    ans = list(og)\n",
    "    for i in range(len(lab_arr)):\n",
    "        ans.append(lab_arr[i])\n",
    "    return np.asarray(ans)"
   ]
  },
  {
   "cell_type": "code",
   "execution_count": 282,
   "metadata": {},
   "outputs": [
    {
     "name": "stderr",
     "output_type": "stream",
     "text": [
      "/usr/lib/anaconda3/lib/python3.6/site-packages/IPython/core/interactiveshell.py:2903: DtypeWarning: Columns (1,11,12,19,20,129,132,169,230) have mixed types. Specify dtype option on import or set low_memory=False.\n",
      "  if self.run_code(code, result):\n",
      "/usr/lib/anaconda3/lib/python3.6/site-packages/IPython/core/interactiveshell.py:2903: DtypeWarning: Columns (17,55,59,61,65,68,69,70,83,90,91,92,93,120,121,122,123,126,140,141) have mixed types. Specify dtype option on import or set low_memory=False.\n",
      "  if self.run_code(code, result):\n"
     ]
    }
   ],
   "source": [
    "man_arr = many_lab_array()\n",
    "man_arr_no_null = processnull(man_arr)\n",
    "clean_man_arr = preprocess_reviews(man_arr_no_null)"
   ]
  },
  {
   "cell_type": "code",
   "execution_count": 283,
   "metadata": {},
   "outputs": [],
   "source": [
    "X = data_preprocessing(reviews_train_clean)"
   ]
  },
  {
   "cell_type": "code",
   "execution_count": 284,
   "metadata": {},
   "outputs": [],
   "source": [
    "new_x = append(reviews_train_clean,clean_man_arr)"
   ]
  },
  {
   "cell_type": "code",
   "execution_count": 285,
   "metadata": {},
   "outputs": [],
   "source": [
    "X_with_many_lab = ngram_vectorizer.transform(new_x)"
   ]
  },
  {
   "cell_type": "code",
   "execution_count": 286,
   "metadata": {},
   "outputs": [],
   "source": [
    "X_spase_many_lab = csr_matrix(X_with_many_lab).toarray()"
   ]
  },
  {
   "cell_type": "code",
   "execution_count": 287,
   "metadata": {},
   "outputs": [],
   "source": [
    "def recover_training_data(x,manylab):\n",
    "    x_train = []\n",
    "    x_pred = []\n",
    "    for i in range(0,len(x)-len(manylab)):\n",
    "        x_train.append(x[i])\n",
    "    for i in range(len(x)-len(manylab),len(x)):\n",
    "        x_pred.append(x[i])\n",
    "    return np.asarray(x_train),np.asarray(x_pred)"
   ]
  },
  {
   "cell_type": "code",
   "execution_count": 288,
   "metadata": {},
   "outputs": [],
   "source": [
    "x_train,x_pred = recover_training_data(X_spase_many_lab,clean_man_arr)"
   ]
  },
  {
   "cell_type": "markdown",
   "metadata": {},
   "source": [
    "# TRAIN MODEL"
   ]
  },
  {
   "cell_type": "code",
   "execution_count": 289,
   "metadata": {},
   "outputs": [],
   "source": [
    "log_with_many_lab = Logistic(0.5,100)"
   ]
  },
  {
   "cell_type": "code",
   "execution_count": 290,
   "metadata": {},
   "outputs": [
    {
     "name": "stdout",
     "output_type": "stream",
     "text": [
      "current iter is:  0\n",
      "current iter is:  10\n",
      "current iter is:  20\n",
      "current iter is:  30\n",
      "current iter is:  40\n",
      "current iter is:  50\n",
      "current iter is:  60\n",
      "current iter is:  70\n",
      "current iter is:  80\n",
      "current iter is:  90\n"
     ]
    }
   ],
   "source": [
    "log_with_many_lab.fit(x_train,train_tags)"
   ]
  },
  {
   "cell_type": "code",
   "execution_count": 291,
   "metadata": {},
   "outputs": [],
   "source": [
    "sentiment_analysis_for_many_labs,threshold = log_with_many_lab.predict_no_threshold(x_pred)"
   ]
  },
  {
   "cell_type": "code",
   "execution_count": 292,
   "metadata": {},
   "outputs": [
    {
     "data": {
      "text/plain": [
       "array([0.5       , 0.5       , 0.5       , ..., 0.13126903, 0.14356659,\n",
       "       0.5       ])"
      ]
     },
     "execution_count": 292,
     "metadata": {},
     "output_type": "execute_result"
    }
   ],
   "source": [
    "sentiment_analysis_for_many_labs"
   ]
  },
  {
   "cell_type": "code",
   "execution_count": 300,
   "metadata": {},
   "outputs": [
    {
     "name": "stdout",
     "output_type": "stream",
     "text": [
      "[85, 388, 2333]\n"
     ]
    }
   ],
   "source": [
    "dic = []\n",
    "for i in range(len(threshold)):\n",
    "    if threshold[i] == 1:\n",
    "        dic.append(i)\n",
    "print(dic)"
   ]
  },
  {
   "cell_type": "code",
   "execution_count": 299,
   "metadata": {},
   "outputs": [
    {
     "name": "stderr",
     "output_type": "stream",
     "text": [
      "/usr/lib/anaconda3/lib/python3.6/site-packages/IPython/core/interactiveshell.py:2785: DtypeWarning: Columns (1,11,12,19,20,129,132,169,230) have mixed types. Specify dtype option on import or set low_memory=False.\n",
      "  interactivity=interactivity, compiler=compiler, result=result)\n"
     ]
    },
    {
     "data": {
      "text/plain": [
       "'When I am at volleyball my coaches constantly have power over what we do. They set rules and guidelines, they are also constantly evaluating us. I hate feeling like I have no control over myself or what I am allowed or not allowed to do.'"
      ]
     },
     "execution_count": 299,
     "metadata": {},
     "output_type": "execute_result"
    }
   ],
   "source": [
    "df3 = pd.read_csv('./ML3AllSites.csv', sep=',',encoding='ISO-8859-1')\n",
    "df3['lowpower'][9]"
   ]
  },
  {
   "cell_type": "markdown",
   "metadata": {},
   "source": [
    "#\n",
    "\n",
    "\n",
    "\n",
    "\n",
    "\n",
    "\n"
   ]
  },
  {
   "cell_type": "markdown",
   "metadata": {},
   "source": [
    "# \n",
    "<br>"
   ]
  },
  {
   "cell_type": "markdown",
   "metadata": {},
   "source": [
    "# "
   ]
  },
  {
   "cell_type": "code",
   "execution_count": 143,
   "metadata": {},
   "outputs": [],
   "source": [
    "X = ngram_vectorizer.transform(reviews_train_clean)"
   ]
  },
  {
   "cell_type": "code",
   "execution_count": 149,
   "metadata": {},
   "outputs": [
    {
     "name": "stderr",
     "output_type": "stream",
     "text": [
      "/usr/lib/anaconda3/lib/python3.6/site-packages/sklearn/model_selection/_split.py:2026: FutureWarning: From version 0.21, test_size will always complement train_size unless both are specified.\n",
      "  FutureWarning)\n"
     ]
    }
   ],
   "source": [
    "x_train,x_pred,y_train,y_pred = train_test_split(X,train_tags,train_size = 0.75)"
   ]
  },
  {
   "cell_type": "code",
   "execution_count": 150,
   "metadata": {},
   "outputs": [],
   "source": [
    "def convert_sparse_to_np_array(x_train,y_train):\n",
    "    return csr_matrix(x_train).toarray(),csr_matrix(y_train).toarray()  "
   ]
  },
  {
   "cell_type": "code",
   "execution_count": 151,
   "metadata": {},
   "outputs": [],
   "source": [
    "x_train,x_pred = convert_sparse_to_np_array(x_train,x_pred)  #convert a scipy.sparse.csr.csr_matrix to np array"
   ]
  },
  {
   "cell_type": "code",
   "execution_count": 152,
   "metadata": {},
   "outputs": [],
   "source": [
    "log_reg = Logistic(0.5,100)"
   ]
  },
  {
   "cell_type": "code",
   "execution_count": 153,
   "metadata": {},
   "outputs": [
    {
     "data": {
      "text/plain": [
       "(7500, 20075)"
      ]
     },
     "execution_count": 153,
     "metadata": {},
     "output_type": "execute_result"
    }
   ],
   "source": [
    "x_train.shape"
   ]
  },
  {
   "cell_type": "code",
   "execution_count": 157,
   "metadata": {},
   "outputs": [
    {
     "name": "stdout",
     "output_type": "stream",
     "text": [
      "current iter is:  0\n",
      "current iter is:  10\n",
      "current iter is:  20\n",
      "current iter is:  30\n",
      "current iter is:  40\n",
      "current iter is:  50\n",
      "current iter is:  60\n",
      "current iter is:  70\n",
      "current iter is:  80\n",
      "current iter is:  90\n"
     ]
    }
   ],
   "source": [
    "log_reg.fit(x_train,y_train)"
   ]
  },
  {
   "cell_type": "code",
   "execution_count": 158,
   "metadata": {},
   "outputs": [],
   "source": [
    "a_fial = log_reg.predict(x_pred)"
   ]
  },
  {
   "cell_type": "code",
   "execution_count": 159,
   "metadata": {},
   "outputs": [
    {
     "name": "stdout",
     "output_type": "stream",
     "text": [
      "predict accuracy is:  0.7156\n"
     ]
    },
    {
     "data": {
      "text/plain": [
       "0.7156"
      ]
     },
     "execution_count": 159,
     "metadata": {},
     "output_type": "execute_result"
    }
   ],
   "source": [
    "log_reg.test_accuracy(a_fial,y_pred)"
   ]
  },
  {
   "cell_type": "code",
   "execution_count": null,
   "metadata": {},
   "outputs": [],
   "source": []
  }
 ],
 "metadata": {
  "kernelspec": {
   "display_name": "Python 3",
   "language": "python",
   "name": "python3"
  },
  "language_info": {
   "codemirror_mode": {
    "name": "ipython",
    "version": 3
   },
   "file_extension": ".py",
   "mimetype": "text/x-python",
   "name": "python",
   "nbconvert_exporter": "python",
   "pygments_lexer": "ipython3",
   "version": "3.6.5"
  }
 },
 "nbformat": 4,
 "nbformat_minor": 2
}
