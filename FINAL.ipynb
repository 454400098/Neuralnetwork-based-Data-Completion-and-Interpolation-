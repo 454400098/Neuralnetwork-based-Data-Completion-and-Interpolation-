{
 "cells": [
  {
   "cell_type": "markdown",
   "metadata": {},
   "source": [
    "# preprocess dataset"
   ]
  },
  {
   "cell_type": "code",
   "execution_count": 151,
   "metadata": {},
   "outputs": [],
   "source": [
    "import pandas as pd\n",
    "import csv\n",
    "import codecs\n",
    "import numpy as np\n",
    "import matplotlib.pyplot as plt\n",
    "import os,sys\n",
    "from sklearn.feature_extraction.text import CountVectorizer\n",
    "from numpy import linalg as LA\n",
    "import math"
   ]
  },
  {
   "cell_type": "code",
   "execution_count": 10,
   "metadata": {},
   "outputs": [
    {
     "name": "stderr",
     "output_type": "stream",
     "text": [
      "/usr/lib/anaconda3/lib/python3.6/site-packages/IPython/core/interactiveshell.py:2785: DtypeWarning: Columns (17,55,59,61,65,68,69,70,83,90,91,92,93,120,121,122,123,126,140,141) have mixed types. Specify dtype option on import or set low_memory=False.\n",
      "  interactivity=interactivity, compiler=compiler, result=result)\n"
     ]
    }
   ],
   "source": [
    "df = pd.read_csv('./Tab.delimited.Cleaned.dataset.WITH.variable.labels.csv', sep='\\t',encoding='ISO-8859-1')"
   ]
  },
  {
   "cell_type": "code",
   "execution_count": 118,
   "metadata": {},
   "outputs": [
    {
     "name": "stderr",
     "output_type": "stream",
     "text": [
      "/usr/lib/anaconda3/lib/python3.6/site-packages/IPython/core/interactiveshell.py:2785: DtypeWarning: Columns (1,11,12,19,20,129,132,169,230) have mixed types. Specify dtype option on import or set low_memory=False.\n",
      "  interactivity=interactivity, compiler=compiler, result=result)\n"
     ]
    }
   ],
   "source": [
    "df3 = pd.read_csv('./ML3AllSites.csv', sep=',',encoding='ISO-8859-1')"
   ]
  },
  {
   "cell_type": "markdown",
   "metadata": {},
   "source": [
    "# Get list from pandas dataframe column headers"
   ]
  },
  {
   "cell_type": "code",
   "execution_count": 11,
   "metadata": {},
   "outputs": [
    {
     "data": {
      "text/plain": [
       "['session_id',\n",
       " 'session_date',\n",
       " 'last_update_date',\n",
       " 'session_last_update_date',\n",
       " 'referrer',\n",
       " 'creation_date',\n",
       " 'session_creation_date',\n",
       " 'expcomments',\n",
       " 'numparticipants_actual',\n",
       " 'numparticipants',\n",
       " 'expgender',\n",
       " 'exprace',\n",
       " 'exprunafter',\n",
       " 'exprunafter2',\n",
       " 'compensation',\n",
       " 'recruitment',\n",
       " 'separatedornot',\n",
       " 'age',\n",
       " 'sample',\n",
       " 'sunkgroup',\n",
       " 'sunkDV',\n",
       " 'gainlossgroup',\n",
       " 'gainlossDV',\n",
       " 'anch1group',\n",
       " 'anch2group',\n",
       " 'anch3group',\n",
       " 'anch4group',\n",
       " 'anchoring1',\n",
       " 'anchoring2',\n",
       " 'anchoring3',\n",
       " 'anchoring4',\n",
       " 'Ranchori',\n",
       " 'RAN001',\n",
       " 'RAN002',\n",
       " 'RAN003',\n",
       " 'Ranch1',\n",
       " 'Ranch2',\n",
       " 'Ranch3',\n",
       " 'Ranch4',\n",
       " 'gambfalgroup',\n",
       " 'gambfalDV',\n",
       " 'gamblerfallacya_sd',\n",
       " 'gamblerfallacyb_sd',\n",
       " 'scalesgroup',\n",
       " 'scalesreca',\n",
       " 'scalesrecb',\n",
       " 'scales',\n",
       " 'reciprocitygroup',\n",
       " 'reciprocityother',\n",
       " 'reciprocityus',\n",
       " 'allowedforbiddenGroup',\n",
       " 'allowedforbidden',\n",
       " 'quotearec',\n",
       " 'quotebrec',\n",
       " 'quoteGroup',\n",
       " 'quote',\n",
       " 'totalflagestimations',\n",
       " 'totalnoflagtimeestimations',\n",
       " 'flagfilter',\n",
       " 'flagdv',\n",
       " 'flagGroup',\n",
       " 'Sysjust',\n",
       " 'MoneyGroup',\n",
       " 'moneyfilter',\n",
       " 'ContactGroup',\n",
       " 'Imagineddv',\n",
       " 'IATfilter',\n",
       " 'partgender',\n",
       " 'IATexpart',\n",
       " 'IATexpmath',\n",
       " 'IATexp.overall',\n",
       " 'totexpmissed',\n",
       " 'IATEXPfilter',\n",
       " 'allowedforbiddena',\n",
       " 'allowedforbiddenb',\n",
       " 'anchoring1a',\n",
       " 'anchoring1b',\n",
       " 'anchoring2a',\n",
       " 'anchoring2b',\n",
       " 'anchoring3a',\n",
       " 'anchoring3b',\n",
       " 'anchoring4a',\n",
       " 'anchoring4b',\n",
       " 'artwarm',\n",
       " 'citizenship',\n",
       " 'd_donotuse',\n",
       " 'diseaseframinga',\n",
       " 'diseaseframingb',\n",
       " 'ethnicity',\n",
       " 'feedback',\n",
       " 'flagdv1',\n",
       " 'flagdv2',\n",
       " 'flagdv3',\n",
       " 'flagdv4',\n",
       " 'flagdv5',\n",
       " 'flagdv6',\n",
       " 'flagdv7',\n",
       " 'flagdv8',\n",
       " 'flagsupplement1',\n",
       " 'flagsupplement2',\n",
       " 'flagsupplement3',\n",
       " 'flagtimeestimate1',\n",
       " 'flagtimeestimate2',\n",
       " 'flagtimeestimate3',\n",
       " 'flagtimeestimate4',\n",
       " 'gamblerfallacya',\n",
       " 'gamblerfallacyb',\n",
       " 'iatexplicitart1',\n",
       " 'iatexplicitart2',\n",
       " 'iatexplicitart3',\n",
       " 'iatexplicitart4',\n",
       " 'iatexplicitart5',\n",
       " 'iatexplicitart6',\n",
       " 'iatexplicitmath1',\n",
       " 'iatexplicitmath2',\n",
       " 'iatexplicitmath3',\n",
       " 'iatexplicitmath4',\n",
       " 'iatexplicitmath5',\n",
       " 'iatexplicitmath6',\n",
       " 'imagineddescribe',\n",
       " 'imaginedexplicit1',\n",
       " 'imaginedexplicit2',\n",
       " 'imaginedexplicit3',\n",
       " 'imaginedexplicit4',\n",
       " 'imptaskto',\n",
       " 'major',\n",
       " 'mathwarm',\n",
       " 'moneyagea',\n",
       " 'moneyageb',\n",
       " 'moneyethnicitya',\n",
       " 'moneyethnicityb',\n",
       " 'moneygendera',\n",
       " 'moneygenderb',\n",
       " 'nativelang',\n",
       " 'nativelang2',\n",
       " 'noflagtimeestimate1',\n",
       " 'noflagtimeestimate2',\n",
       " 'noflagtimeestimate3',\n",
       " 'noflagtimeestimate4',\n",
       " 'omdimc3',\n",
       " 'omdimc3rt',\n",
       " 'omdimc3trt',\n",
       " 'politicalid',\n",
       " 'quotea',\n",
       " 'quoteb',\n",
       " 'race',\n",
       " 'reciprocityothera',\n",
       " 'reciprocityotherb',\n",
       " 'reciprocityusa',\n",
       " 'reciprocityusb',\n",
       " 'scalesa',\n",
       " 'scalesb',\n",
       " 'sex',\n",
       " 'sunkcosta',\n",
       " 'sunkcostb',\n",
       " 'sysjust1',\n",
       " 'sysjust2',\n",
       " 'sysjust3',\n",
       " 'sysjust4',\n",
       " 'sysjust5',\n",
       " 'sysjust6',\n",
       " 'sysjust7',\n",
       " 'sysjust8',\n",
       " 'text',\n",
       " 'user_id',\n",
       " 'session_status',\n",
       " 'previous_session_id',\n",
       " 'previous_session_schema',\n",
       " 'user_agent',\n",
       " 'task_status',\n",
       " 'task_sequence',\n",
       " 'session_created_by',\n",
       " 'study_url',\n",
       " 'study_name',\n",
       " 'us_or_international',\n",
       " 'lab_or_online',\n",
       " 'task_id.0',\n",
       " 'task_id.1',\n",
       " 'task_id.2',\n",
       " 'task_id.3',\n",
       " 'task_id.4',\n",
       " 'task_id.5',\n",
       " 'task_id.6',\n",
       " 'task_id.7',\n",
       " 'task_id.8',\n",
       " 'task_id.9',\n",
       " 'task_id.10',\n",
       " 'task_id.11',\n",
       " 'task_id.12',\n",
       " 'task_id.13',\n",
       " 'task_id.14',\n",
       " 'task_id.15',\n",
       " 'task_id.16',\n",
       " 'task_id.17',\n",
       " 'task_id.18',\n",
       " 'task_id.19',\n",
       " 'task_id.20',\n",
       " 'task_id.21',\n",
       " 'task_id.22',\n",
       " 'task_id.23',\n",
       " 'task_id.24',\n",
       " 'task_id.25',\n",
       " 'task_id.26',\n",
       " 'task_id.27',\n",
       " 'task_id.28',\n",
       " 'task_id.29',\n",
       " 'task_id.30',\n",
       " 'task_id.31',\n",
       " 'task_id.32',\n",
       " 'task_id.33',\n",
       " 'task_id.34',\n",
       " 'task_id.35',\n",
       " 'task_id.36',\n",
       " 'task_id.37',\n",
       " 'task_id.38',\n",
       " 'task_id.39',\n",
       " 'task_id.40',\n",
       " 'task_id.41',\n",
       " 'task_id.42',\n",
       " 'task_id.43',\n",
       " 'task_id.44',\n",
       " 'task_url.0',\n",
       " 'task_url.1',\n",
       " 'task_url.2',\n",
       " 'task_url.3',\n",
       " 'task_url.4',\n",
       " 'task_url.5',\n",
       " 'task_url.6',\n",
       " 'task_url.7',\n",
       " 'task_url.8',\n",
       " 'task_url.9',\n",
       " 'task_url.10',\n",
       " 'task_url.11',\n",
       " 'task_url.12',\n",
       " 'task_url.13',\n",
       " 'task_url.14',\n",
       " 'task_url.15',\n",
       " 'task_url.16',\n",
       " 'task_url.17',\n",
       " 'task_url.18',\n",
       " 'task_url.19',\n",
       " 'task_url.20',\n",
       " 'task_url.21',\n",
       " 'task_url.22',\n",
       " 'task_url.23',\n",
       " 'task_url.24',\n",
       " 'task_url.25',\n",
       " 'task_url.26',\n",
       " 'task_url.27',\n",
       " 'task_url.28',\n",
       " 'task_url.29',\n",
       " 'task_url.30',\n",
       " 'task_url.31',\n",
       " 'task_url.32',\n",
       " 'task_url.33',\n",
       " 'task_url.34',\n",
       " 'task_url.35',\n",
       " 'task_url.36',\n",
       " 'task_url.37',\n",
       " 'task_url.38',\n",
       " 'task_url.39',\n",
       " 'task_url.40',\n",
       " 'task_url.41',\n",
       " 'task_url.42',\n",
       " 'task_url.43',\n",
       " 'task_url.44',\n",
       " 'task_creation_date.0',\n",
       " 'task_creation_date.1',\n",
       " 'task_creation_date.2',\n",
       " 'task_creation_date.3',\n",
       " 'task_creation_date.4',\n",
       " 'task_creation_date.5',\n",
       " 'task_creation_date.6',\n",
       " 'task_creation_date.7',\n",
       " 'task_creation_date.8',\n",
       " 'task_creation_date.9',\n",
       " 'task_creation_date.10',\n",
       " 'task_creation_date.11',\n",
       " 'task_creation_date.12',\n",
       " 'task_creation_date.13',\n",
       " 'task_creation_date.14',\n",
       " 'task_creation_date.15',\n",
       " 'task_creation_date.16',\n",
       " 'task_creation_date.17',\n",
       " 'task_creation_date.18',\n",
       " 'task_creation_date.19',\n",
       " 'task_creation_date.20',\n",
       " 'task_creation_date.21',\n",
       " 'task_creation_date.22',\n",
       " 'task_creation_date.23',\n",
       " 'task_creation_date.24',\n",
       " 'task_creation_date.25',\n",
       " 'task_creation_date.26',\n",
       " 'task_creation_date.27',\n",
       " 'task_creation_date.28',\n",
       " 'task_creation_date.29',\n",
       " 'task_creation_date.30',\n",
       " 'task_creation_date.31',\n",
       " 'task_creation_date.32',\n",
       " 'task_creation_date.33',\n",
       " 'task_creation_date.34',\n",
       " 'task_creation_date.35',\n",
       " 'task_creation_date.36',\n",
       " 'task_creation_date.37',\n",
       " 'task_creation_date.38',\n",
       " 'task_creation_date.39',\n",
       " 'task_creation_date.40',\n",
       " 'task_creation_date.41',\n",
       " 'task_creation_date.42',\n",
       " 'task_creation_date.43',\n",
       " 'task_creation_date.44',\n",
       " 'anchoring1akm',\n",
       " 'anchoring1bkm',\n",
       " 'anchoring3ameter',\n",
       " 'anchoring3bmeter',\n",
       " 'citizenship2',\n",
       " 'religion',\n",
       " 'priorexposure1',\n",
       " 'priorexposure10',\n",
       " 'priorexposure11',\n",
       " 'priorexposure12',\n",
       " 'priorexposure13',\n",
       " 'priorexposure2',\n",
       " 'priorexposure3',\n",
       " 'priorexposure4',\n",
       " 'priorexposure5',\n",
       " 'priorexposure6',\n",
       " 'priorexposure7',\n",
       " 'priorexposure8',\n",
       " 'priorexposure9',\n",
       " 'task_id.45',\n",
       " 'task_url.45',\n",
       " 'task_creation_date.45',\n",
       " 'beginlocaltime',\n",
       " 'mturk.non.US',\n",
       " 'mturk.Submitted.PaymentReq',\n",
       " 'mturk.total.mini.exps',\n",
       " 'mturk.duplicate',\n",
       " 'mturk.exclude.null',\n",
       " 'mturk.keep',\n",
       " 'mturk.exclude',\n",
       " 'filter_$',\n",
       " 'order',\n",
       " 'meanlatency',\n",
       " 'meanerror',\n",
       " 'block2_meanerror',\n",
       " 'block3_meanerror',\n",
       " 'block5_meanerror',\n",
       " 'block6_meanerror',\n",
       " 'lat11',\n",
       " 'lat12',\n",
       " 'lat21',\n",
       " 'lat22',\n",
       " 'sd1',\n",
       " 'sd2',\n",
       " 'd_art1',\n",
       " 'd_art2',\n",
       " 'd_art',\n",
       " 'iat_exclude',\n",
       " 'o1',\n",
       " 'o2',\n",
       " 'o3',\n",
       " 'o4',\n",
       " 'o5',\n",
       " 'o6',\n",
       " 'o7',\n",
       " 'o8',\n",
       " 'o9',\n",
       " 'o10',\n",
       " 'o11',\n",
       " 'scalesorder',\n",
       " 'reciprocorder',\n",
       " 'diseaseforder',\n",
       " 'quoteorder',\n",
       " 'flagprimorder',\n",
       " 'sunkcostorder',\n",
       " 'anchorinorder',\n",
       " 'allowedforder',\n",
       " 'gamblerforder',\n",
       " 'moneypriorder',\n",
       " 'imaginedorder',\n",
       " 'iatorder']"
      ]
     },
     "execution_count": 11,
     "metadata": {},
     "output_type": "execute_result"
    }
   ],
   "source": [
    "list(df.columns.values)"
   ]
  },
  {
   "cell_type": "code",
   "execution_count": 75,
   "metadata": {},
   "outputs": [],
   "source": [
    "df1 = df[['age']]"
   ]
  },
  {
   "cell_type": "code",
   "execution_count": 76,
   "metadata": {},
   "outputs": [
    {
     "data": {
      "image/png": "[encoded data removed]",
      "text/plain": [
       "<Figure size 432x288 with 1 Axes>"
      ]
     },
     "metadata": {},
     "output_type": "display_data"
    }
   ],
   "source": [
    "p = df1.apply(pd.value_counts).plot(kind='bar', subplots=True)"
   ]
  },
  {
   "cell_type": "code",
   "execution_count": 77,
   "metadata": {},
   "outputs": [],
   "source": [
    "arr = df1.values"
   ]
  },
  {
   "cell_type": "markdown",
   "metadata": {},
   "source": [
    "# Some value does not exist"
   ]
  },
  {
   "cell_type": "code",
   "execution_count": 338,
   "metadata": {},
   "outputs": [
    {
     "name": "stdout",
     "output_type": "stream",
     "text": [
      "on line 431\n",
      "on line 507\n",
      "on line 515\n",
      "on line 519\n",
      "on line 569\n",
      "on line 2788\n",
      "on line 2828\n",
      "on line 3047\n",
      "on line 3413\n",
      "on line 4141\n",
      "on line 4193\n",
      "on line 4205\n",
      "on line 4333\n",
      "on line 4470\n",
      "on line 5447\n",
      "on line 5657\n"
     ]
    }
   ],
   "source": [
    "for i in range(len(arr)):\n",
    "    try:\n",
    "        arr[i][0] = int(arr[i][0])\n",
    "    except ValueError:\n",
    "        print (\"on line\",i)"
   ]
  },
  {
   "cell_type": "code",
   "execution_count": 339,
   "metadata": {
    "scrolled": true
   },
   "outputs": [
    {
     "name": "stdout",
     "output_type": "stream",
     "text": [
      "431\n",
      "507\n",
      "515\n",
      "519\n",
      "569\n",
      "2788\n",
      "2828\n",
      "3047\n",
      "3413\n",
      "4141\n",
      "4193\n",
      "4205\n",
      "4333\n",
      "4470\n",
      "5447\n",
      "5657\n"
     ]
    }
   ],
   "source": [
    "for i in range(len(arr)):\n",
    "    if arr[i][0] == ' ':\n",
    "        print(i)"
   ]
  },
  {
   "cell_type": "markdown",
   "metadata": {},
   "source": [
    "# Need to perform kmeans clustering for each attribute"
   ]
  },
  {
   "cell_type": "code",
   "execution_count": 195,
   "metadata": {},
   "outputs": [],
   "source": [
    "class KMeans:\n",
    "    def __init__(self, n_clusters=64):\n",
    "        self.n_clusters = n_clusters  # number of clusters\n",
    "        self.centers = None  # to record the centers\n",
    "        self.labels = None\n",
    "        self.Y = None\n",
    "\n",
    "    def random_center(self):\n",
    "        # randomly generate n_cluster clusters in the raange of X\n",
    "        self.centers = np.random.rand(self.n_clusters, 3)\n",
    "        for j in range(3):\n",
    "            Y_j_min = self.Y[:,j].min()\n",
    "            Y_j_max = self.Y[:,j].max()\n",
    "            self.centers[:,j] = Y_j_min + (Y_j_max - Y_j_min) * self.centers[:,j]\n",
    "    \n",
    "    def random_center2(self,Y):\n",
    "    # randomly generate n_cluster clusters in the raange of X\n",
    "        self.centers = np.random.rand(self.n_clusters, len(Y[0]))\n",
    "        for i in range(self.n_clusters):\n",
    "            self.centers[i] = Y[i]\n",
    "#         for j in range(0):\n",
    "#             Y_j_min = self.Y[:,j].min()\n",
    "#             Y_j_max = self.Y[:,j].max()\n",
    "#             self.centers[:,j] = Y_j_min + (Y_j_max - Y_j_min) * self.centers[:,j]\n",
    "            \n",
    "            \n",
    "            \n",
    "    def dist(self, point1, point2): #old one\n",
    "        return 2*(point1[0]-point2[0])**2 + 4*(point1[1]-point2[1])**2 + 3*(point1[2]-point2[2])**2\n",
    "\n",
    "    def dist2(self,point1,point2):\n",
    "        return LA.norm(point1-point2)**2\n",
    "    \n",
    "\n",
    "    def fit(self, Y):\n",
    "        self.Y = Y\n",
    "        self.labels = np.zeros(Y.shape[0], dtype='uint8')  # record the current labels of each sample of X\n",
    "        self.random_center()\n",
    "        diff = 1\n",
    "\n",
    "        while diff > 1e-3:\n",
    "            old_center = self.centers.copy()\n",
    "\n",
    "            # go through all samples and label them using the nearest label\n",
    "            for i in range(Y.shape[0]):\n",
    "                distance = np.zeros(self.n_clusters)\n",
    "                for j in range(self.n_clusters):\n",
    "                    distance[j] = self.dist(Y[i], self.centers[j])\n",
    "                self.labels[i] = np.argmin(distance)\n",
    "                \n",
    "                \n",
    "            # update the centers\n",
    "            for i in range(self.n_clusters):\n",
    "                self.centers[i] = Y[self.labels==i].mean(axis=0)\n",
    "\n",
    "            # update the difference\n",
    "            diff = np.linalg.norm(self.centers - old_center)\n",
    "        return self\n",
    "    \n",
    "    def fit2(self, Y):\n",
    "        self.Y = Y\n",
    "        self.labels = np.zeros(Y.shape[0], dtype='uint8')  # record the current labels of each sample of X\n",
    "        self.random_center2(Y)\n",
    "        diff = 1\n",
    "        \n",
    "        while diff > 1e-3:\n",
    "            old_center = self.centers.copy()\n",
    "\n",
    "            # go through all samples and label them using the nearest label\n",
    "            for i in range(Y.shape[0]):\n",
    "                distance = np.zeros(self.n_clusters)\n",
    "                for j in range(self.n_clusters):\n",
    "                    distance[j] = self.dist2(Y[i], self.centers[j])\n",
    "                self.labels[i] = np.argmin(distance)\n",
    "                \n",
    "                \n",
    "            # update the centers\n",
    "            for i in range(self.n_clusters):\n",
    "                self.centers[i] = Y[self.labels==i].mean(axis=0)\n",
    "                \n",
    "\n",
    "            # update the difference\n",
    "            diff = np.linalg.norm(self.centers - old_center)\n",
    "            print(diff)\n",
    "        return self\n",
    "    \n",
    "    \n",
    "    def transform(self, Y):\n",
    "        out = np.zeros(Y.shape)\n",
    "        for i in range(self.n_clusters):\n",
    "            out[self.labels==i] = self.centers[i]\n",
    "        return out\n",
    "    "
   ]
  },
  {
   "cell_type": "markdown",
   "metadata": {},
   "source": [
    "# oneHOTENCODING"
   ]
  },
  {
   "cell_type": "code",
   "execution_count": 74,
   "metadata": {},
   "outputs": [],
   "source": [
    "def oneHotEncoding(Y, kmeans):\n",
    "    out = np.zeros((len(Y), kmeans.n_clusters))\n",
    "    for i in range(len(Y)):\n",
    "        out[i, Y[i]] = 1\n",
    "    return out"
   ]
  },
  {
   "cell_type": "code",
   "execution_count": 78,
   "metadata": {},
   "outputs": [
    {
     "name": "stdout",
     "output_type": "stream",
     "text": [
      "431\n",
      "507\n",
      "515\n",
      "519\n",
      "569\n",
      "2788\n",
      "2828\n",
      "3047\n",
      "3413\n",
      "4141\n",
      "4193\n",
      "4205\n",
      "4333\n",
      "4470\n",
      "5447\n",
      "5657\n"
     ]
    }
   ],
   "source": [
    "di = []\n",
    "for i in range(len(arr)):\n",
    "    if arr[i][0] != ' ':\n",
    "        di.append(int(arr[i][0]))\n",
    "    else:\n",
    "        print(i)"
   ]
  },
  {
   "cell_type": "code",
   "execution_count": 79,
   "metadata": {},
   "outputs": [],
   "source": [
    "arr2 = np.asarray(di)"
   ]
  },
  {
   "cell_type": "code",
   "execution_count": 80,
   "metadata": {},
   "outputs": [
    {
     "data": {
      "text/plain": [
       "(6328,)"
      ]
     },
     "execution_count": 80,
     "metadata": {},
     "output_type": "execute_result"
    }
   ],
   "source": [
    "arr2.shape"
   ]
  },
  {
   "cell_type": "code",
   "execution_count": 81,
   "metadata": {},
   "outputs": [
    {
     "data": {
      "text/plain": [
       "array([18, 19, 18, ..., 20, 19, 19])"
      ]
     },
     "execution_count": 81,
     "metadata": {},
     "output_type": "execute_result"
    }
   ],
   "source": [
    "arr2"
   ]
  },
  {
   "cell_type": "code",
   "execution_count": 82,
   "metadata": {},
   "outputs": [
    {
     "name": "stderr",
     "output_type": "stream",
     "text": [
      "/usr/lib/anaconda3/lib/python3.6/site-packages/ipykernel_launcher.py:79: RuntimeWarning: Mean of empty slice.\n",
      "/usr/lib/anaconda3/lib/python3.6/site-packages/numpy/core/_methods.py:80: RuntimeWarning: invalid value encountered in double_scalars\n",
      "  ret = ret.dtype.type(ret / rcount)\n"
     ]
    }
   ],
   "source": [
    "kmeans = KMeans(20).fit2(arr2)"
   ]
  },
  {
   "cell_type": "code",
   "execution_count": 83,
   "metadata": {},
   "outputs": [
    {
     "name": "stdout",
     "output_type": "stream",
     "text": [
      "[ 0  1  8 16 17]\n"
     ]
    },
    {
     "data": {
      "image/png": "[encoded data removed]",
      "text/plain": [
       "<Figure size 432x288 with 1 Axes>"
      ]
     },
     "metadata": {},
     "output_type": "display_data"
    }
   ],
   "source": [
    "plt.hist(kmeans.labels)\n",
    "arr = np.asarray(kmeans.labels)\n",
    "arr = np.unique(arr)\n",
    "print(arr)"
   ]
  },
  {
   "cell_type": "code",
   "execution_count": 361,
   "metadata": {},
   "outputs": [],
   "source": [
    "Y = oneHotEncoding(kmeans.labels,kmeans)"
   ]
  },
  {
   "cell_type": "code",
   "execution_count": 362,
   "metadata": {},
   "outputs": [
    {
     "data": {
      "text/plain": [
       "array([[1., 0., 0., ..., 0., 0., 0.],\n",
       "       [0., 1., 0., ..., 0., 0., 0.],\n",
       "       [1., 0., 0., ..., 0., 0., 0.],\n",
       "       ...,\n",
       "       [0., 1., 0., ..., 0., 0., 0.],\n",
       "       [0., 1., 0., ..., 0., 0., 0.],\n",
       "       [0., 1., 0., ..., 0., 0., 0.]])"
      ]
     },
     "execution_count": 362,
     "metadata": {},
     "output_type": "execute_result"
    }
   ],
   "source": [
    "Y"
   ]
  },
  {
   "cell_type": "markdown",
   "metadata": {},
   "source": [
    "# test clustering numbered data:\n",
    "    step1 : get single column\n",
    "    step2 : sort in increasing order\n",
    "    step3 : based on distribution, cut data into 4 section with equally number of candidate\n",
    "    step4 : if data is null, set isnon to be true for that column\n",
    "    step5 : append new datacol to input_arr"
   ]
  },
  {
   "cell_type": "code",
   "execution_count": 5,
   "metadata": {},
   "outputs": [],
   "source": [
    "df1 = df[['age']]  #get col of age data"
   ]
  },
  {
   "cell_type": "code",
   "execution_count": 7,
   "metadata": {},
   "outputs": [],
   "source": [
    "arr = df1.values"
   ]
  },
  {
   "cell_type": "code",
   "execution_count": 32,
   "metadata": {},
   "outputs": [],
   "source": [
    "di = []\n",
    "for i in range(len(arr)):\n",
    "    if arr[i][0] != ' ':\n",
    "        di.append(int(arr[i][0]))\n",
    "    else:\n",
    "        di.append(-1)"
   ]
  },
  {
   "cell_type": "code",
   "execution_count": 33,
   "metadata": {},
   "outputs": [],
   "source": [
    "di.sort()"
   ]
  },
  {
   "cell_type": "code",
   "execution_count": 34,
   "metadata": {},
   "outputs": [],
   "source": [
    "for i in range(len(di)):\n",
    "    if di[i] == ' ':\n",
    "        print (i)"
   ]
  },
  {
   "cell_type": "code",
   "execution_count": 35,
   "metadata": {},
   "outputs": [
    {
     "data": {
      "text/plain": [
       "6344"
      ]
     },
     "execution_count": 35,
     "metadata": {},
     "output_type": "execute_result"
    }
   ],
   "source": [
    "len(di)"
   ]
  },
  {
   "cell_type": "code",
   "execution_count": 37,
   "metadata": {},
   "outputs": [
    {
     "data": {
      "text/plain": [
       "6344"
      ]
     },
     "execution_count": 37,
     "metadata": {},
     "output_type": "execute_result"
    }
   ],
   "source": [
    "len(di)"
   ]
  },
  {
   "cell_type": "code",
   "execution_count": 42,
   "metadata": {},
   "outputs": [],
   "source": [
    "def getdistriarr(arr):\n",
    "    ans_arr = []\n",
    "    leng = len(arr)\n",
    "    ans_arr.append(arr[int(leng/4)])\n",
    "    ans_arr.append(arr[int(leng/2)])\n",
    "    ans_arr.append(arr[int(leng*0.75)])\n",
    "    ans_arr.append(arr[int(leng-1)])\n",
    "    return ans_arr"
   ]
  },
  {
   "cell_type": "code",
   "execution_count": 97,
   "metadata": {},
   "outputs": [],
   "source": [
    "def oneHotEncoding_return_arr(att_arr,class_arr): #one \n",
    "    #add one more column for each row since last col used as flag\n",
    "    choice = len(class_arr)\n",
    "    out = np.zeros((len(att_arr),len(class_arr)+1))\n",
    "    for i in range(len(att_arr)):\n",
    "        loc = 0\n",
    "        #first jude if data is null\n",
    "        if att_arr[i] == -1:\n",
    "            out[i][-1] = -1\n",
    "            continue\n",
    "        else:\n",
    "            out[i][-1] = 1\n",
    "            for j in range(len(class_arr)):\n",
    "                if att_arr[i] < class_arr[j]:\n",
    "                    out[i][j] = 1\n",
    "                    break\n",
    "        \n",
    "    return out\n",
    "\n",
    "        \n",
    "    "
   ]
  },
  {
   "cell_type": "code",
   "execution_count": 184,
   "metadata": {},
   "outputs": [],
   "source": [
    "def append_arr(old,new):\n",
    "    #both old and new has the same num of row\n",
    "    #create a new nparray\n",
    "\n",
    "    newdim = len(old[0])+len(new[0])\n",
    "    print('newdim is',newdim)\n",
    "    ans = np.zeros((len(old),newdim))\n",
    "    print(ans.shape)\n",
    "    for i in range(len(old)):\n",
    "        ans[i] = np.append(old[i],new[i])\n",
    "    return ans"
   ]
  },
  {
   "cell_type": "markdown",
   "metadata": {},
   "source": [
    "# STEP TWO CONVERT NLP DATASET INTO VECTOR:\n",
    "    STEP1: vectorize dataset\n",
    "    STEP2: apply kmeans clustering to language data\n",
    "    STEP3: ONEHOT ENCODING\n",
    "    STEP4: APPEND CLASSIFICATION DATASET INTO old CLASSFICAITION ARR"
   ]
  },
  {
   "cell_type": "code",
   "execution_count": 184,
   "metadata": {},
   "outputs": [],
   "source": [
    "def NLPDATAPRO(allsentences):\n",
    "    vectorizer = CountVectorizer()\n",
    "    X = vectorizer.fit_transform(allsentences)\n",
    "    ans = X.toarray()\n",
    "    return ans"
   ]
  },
  {
   "cell_type": "code",
   "execution_count": 113,
   "metadata": {},
   "outputs": [],
   "source": [
    "def createtextarr(attri_col):\n",
    "    df2 = df[[attri_col]]\n",
    "    arr = df2.values\n",
    "    for i in range(len(arr)):\n",
    "        di.append(arr[i][0])\n",
    "    return arr"
   ]
  },
  {
   "cell_type": "markdown",
   "metadata": {},
   "source": [
    "# STEP THREE CONVERT TEXT_DATASET WITH FIXED classification into vector"
   ]
  },
  {
   "cell_type": "code",
   "execution_count": 128,
   "metadata": {},
   "outputs": [],
   "source": [
    "df2= df3['anagrams3']"
   ]
  },
  {
   "cell_type": "code",
   "execution_count": 129,
   "metadata": {},
   "outputs": [],
   "source": [
    "arr = df2.values"
   ]
  },
  {
   "cell_type": "code",
   "execution_count": 169,
   "metadata": {},
   "outputs": [],
   "source": [
    "def processnull:\n",
    "    arrnew = []\n",
    "    for i in range(len(arr)):\n",
    "        if type(arr[i]) == float and math.isnan(arr[i]) :\n",
    "            arrnew.append('Nan')\n",
    "        else:\n",
    "            arrnew.append(arr[i])\n",
    "    return arrnew"
   ]
  },
  {
   "cell_type": "code",
   "execution_count": 182,
   "metadata": {},
   "outputs": [],
   "source": [
    "def returnuniqiearr(og):\n",
    "    ar = np.asarray(og)\n",
    "    return np.unique(ar)"
   ]
  },
  {
   "cell_type": "markdown",
   "metadata": {},
   "source": [
    "# TODO: create a function to append text to old vecto(remember to append flag)"
   ]
  },
  {
   "cell_type": "code",
   "execution_count": null,
   "metadata": {},
   "outputs": [],
   "source": []
  }
 ],
 "metadata": {
  "kernelspec": {
   "display_name": "Python 3",
   "language": "python",
   "name": "python3"
  },
  "language_info": {
   "codemirror_mode": {
    "name": "ipython",
    "version": 3
   },
   "file_extension": ".py",
   "mimetype": "text/x-python",
   "name": "python",
   "nbconvert_exporter": "python",
   "pygments_lexer": "ipython3",
   "version": "3.6.5"
  }
 },
 "nbformat": 4,
 "nbformat_minor": 2
}
