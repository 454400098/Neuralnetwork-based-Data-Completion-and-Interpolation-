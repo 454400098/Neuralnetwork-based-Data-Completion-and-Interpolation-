{
 "cells": [
  {
   "cell_type": "markdown",
   "metadata": {},
   "source": [
    "# NO MACHIING LEARNING LIBRARY USED FOR TRAINING/PREDICTION/CLASSIFCATION"
   ]
  },
  {
   "cell_type": "code",
   "execution_count": 84,
   "metadata": {},
   "outputs": [],
   "source": [
    "from nltk.stem import PorterStemmer\n",
    "import re\n",
    "from nltk.corpus import stopwords\n",
    "from sklearn.feature_extraction.text import CountVectorizer\n",
    "import pandas as pd\n",
    "from sklearn.feature_extraction.text import TfidfTransformer\n",
    "from scipy.sparse import csr_matrix\n",
    "import numpy as np"
   ]
  },
  {
   "cell_type": "markdown",
   "metadata": {},
   "source": [
    "# Why NLP?\n",
    "combine manylabs with training('train.csv') daset\n",
    "apply count vectorizer to both of them together\n",
    "only train a model based on logistic regression using training dataset\n",
    "use trained model to analyze sentiment of manylabs highpower and low power column\n",
    "create a CSV FILE TO store sentiment for [highpower] [lowpoer] for each candidate"
   ]
  },
  {
   "cell_type": "code",
   "execution_count": 77,
   "metadata": {},
   "outputs": [],
   "source": [
    "class Logistic:\n",
    "    def __init__(self,rate,iteration):\n",
    "        self.rate = rate\n",
    "        self.weights = None\n",
    "        self.iteration = iteration\n",
    "    \n",
    "    def sigmoid(self,z):\n",
    "        return 1/(1+np.exp(-z))\n",
    "    \n",
    "    def loss(self,h, y):\n",
    "        return (-y * np.log(h) - (1 - y) * np.log(1 - h)).mean()\n",
    "    \n",
    "    def gradient_descent(self,X, h, y):\n",
    "        return np.dot(X.T, (h - y)) / y.shape[0]\n",
    "\n",
    "    def update_weight_loss(self,weight, learning_rate, gradient):\n",
    "        return weight - learning_rate * gradient\n",
    "    \n",
    "    def initialize_parameters(self,X):\n",
    "        self.weights = np.random.randn(len(X[0])) * 0.01\n",
    "        \n",
    "    def fit(self,X,y):\n",
    "        self.initialize_parameters(X)\n",
    "        #gradient descent\n",
    "        for i in range(self.iteration):\n",
    "            h = self.sigmoid(np.dot(X,self.weights))\n",
    "            gradient = self.gradient_descent(X,h,y)\n",
    "            self.weights = self.update_weight_loss(self.weights,self.rate,gradient)\n",
    "            if i % 10 == 0:\n",
    "                print('current iter is: ', i)\n",
    "    def predict(self,X):\n",
    "        ans = self.sigmoid(np.dot(X,self.weights))\n",
    "        for i in range(len(ans)):\n",
    "            if ans[i] < 0.5:\n",
    "                ans[i] = 0\n",
    "            else:\n",
    "                ans[i] = 1\n",
    "        return ans\n",
    "    \n",
    "    def test_accuracy(self,X,y):\n",
    "        cor = 0\n",
    "        total = len(y)\n",
    "        for i in range(total):\n",
    "            if X[i] == y[i]:\n",
    "                cor+=1\n",
    "        \n",
    "        print(\"predict accuracy is: \", cor/total)\n",
    "        return cor/total\n",
    "        "
   ]
  },
  {
   "cell_type": "code",
   "execution_count": 3,
   "metadata": {},
   "outputs": [],
   "source": [
    "#create df to hold all traning words\n",
    "\n",
    "#load the data into a DataFrame\n",
    "train = pd.read_csv('data/train.csv',encoding='latin-1')\n",
    "test = pd.read_csv('data/test.csv',encoding='latin-1')\n"
   ]
  },
  {
   "cell_type": "code",
   "execution_count": 34,
   "metadata": {},
   "outputs": [],
   "source": [
    "train = train[0:5000]\n",
    "test = test[0:5000]"
   ]
  },
  {
   "cell_type": "code",
   "execution_count": 35,
   "metadata": {},
   "outputs": [],
   "source": [
    "#create list to hold all data\n",
    "train_tags = train['Sentiment'].values\n",
    "train_text = train['SentimentText'].values\n",
    "\n",
    "test_text = test['SentimentText'].values"
   ]
  },
  {
   "cell_type": "markdown",
   "metadata": {},
   "source": [
    "# CREATE df to store manylab text column"
   ]
  },
  {
   "cell_type": "code",
   "execution_count": null,
   "metadata": {},
   "outputs": [],
   "source": []
  },
  {
   "cell_type": "markdown",
   "metadata": {},
   "source": [
    "# Clean dataset into regular expression"
   ]
  },
  {
   "cell_type": "code",
   "execution_count": 85,
   "metadata": {},
   "outputs": [],
   "source": [
    "def preprocess_reviews(reviews):\n",
    "\n",
    "    REPLACE_NO_SPACE = re.compile(\"(\\.)|(\\;)|(\\:)|(\\!)|(\\?)|(\\,)|(\\\")|(\\()|(\\))|(\\[)|(\\])|(\\d+)\")\n",
    "    REPLACE_WITH_SPACE = re.compile(\"(<br\\s*/><br\\s*/>)|(\\-)|(\\/)\")\n",
    "    NO_SPACE = \"\"\n",
    "    SPACE = \" \"\n",
    "    \n",
    "    reviews = [REPLACE_NO_SPACE.sub(NO_SPACE, line.lower()) for line in reviews]\n",
    "    reviews = [REPLACE_WITH_SPACE.sub(SPACE, line) for line in reviews]\n",
    "    \n",
    "    return reviews\n",
    "\n",
    "reviews_train_clean = preprocess_reviews(train_text)\n",
    "# reviews_test_clean = preprocess_reviews(reviews_test)"
   ]
  },
  {
   "cell_type": "markdown",
   "metadata": {},
   "source": [
    "# n-grams size = 1,2\n",
    "# STOP_WORDS"
   ]
  },
  {
   "cell_type": "code",
   "execution_count": 82,
   "metadata": {},
   "outputs": [],
   "source": [
    "def data_preprocessing(reviews_train_clean):\n",
    "    stop_words = ['in', 'of', 'at', 'a', 'the']\n",
    "    ngram_vectorizer = CountVectorizer(binary=True,ngram_range=(1,2),stop_words= stop_words)\n",
    "    ngram_vectorizer.fit(reviews_train_clean)\n",
    "    X = ngram_vectorizer.transform(reviews_train_clean)\n",
    "    return X\n",
    "    "
   ]
  },
  {
   "cell_type": "code",
   "execution_count": 37,
   "metadata": {},
   "outputs": [
    {
     "data": {
      "text/plain": [
       "CountVectorizer(analyzer='word', binary=True, decode_error='strict',\n",
       "        dtype=<class 'numpy.int64'>, encoding='utf-8', input='content',\n",
       "        lowercase=True, max_df=1.0, max_features=None, min_df=1,\n",
       "        ngram_range=(1, 2), preprocessor=None,\n",
       "        stop_words=['in', 'of', 'at', 'a', 'the'], strip_accents=None,\n",
       "        token_pattern='(?u)\\\\b\\\\w\\\\w+\\\\b', tokenizer=None, vocabulary=None)"
      ]
     },
     "execution_count": 37,
     "metadata": {},
     "output_type": "execute_result"
    }
   ],
   "source": [
    "stop_words = ['in', 'of', 'at', 'a', 'the']\n",
    "ngram_vectorizer = CountVectorizer(binary=True,ngram_range=(1,2),stop_words= stop_words)\n",
    "ngram_vectorizer.fit(reviews_train_clean)"
   ]
  },
  {
   "cell_type": "code",
   "execution_count": 38,
   "metadata": {},
   "outputs": [],
   "source": [
    "X = ngram_vectorizer.transform(reviews_train_clean)"
   ]
  },
  {
   "cell_type": "code",
   "execution_count": 73,
   "metadata": {},
   "outputs": [],
   "source": [
    "a = csr_matrix(X).toarray()    #convert a scipy.sparse.csr.csr_matrix to np array"
   ]
  },
  {
   "cell_type": "code",
   "execution_count": 74,
   "metadata": {},
   "outputs": [],
   "source": [
    "#utilize logistic regression to classify dataset"
   ]
  },
  {
   "cell_type": "code",
   "execution_count": 75,
   "metadata": {},
   "outputs": [],
   "source": [
    "log_reg = Logistic(0.5,100)"
   ]
  },
  {
   "cell_type": "code",
   "execution_count": 76,
   "metadata": {},
   "outputs": [
    {
     "name": "stdout",
     "output_type": "stream",
     "text": [
      "current iter is:  0\n",
      "current iter is:  50\n"
     ]
    }
   ],
   "source": [
    "log_reg.fit(a,train_tags)"
   ]
  },
  {
   "cell_type": "code",
   "execution_count": 80,
   "metadata": {},
   "outputs": [],
   "source": [
    "a_fial = log_reg.predict(a)"
   ]
  },
  {
   "cell_type": "code",
   "execution_count": 81,
   "metadata": {},
   "outputs": [
    {
     "name": "stdout",
     "output_type": "stream",
     "text": [
      "predict accuracy is:  0.7985\n"
     ]
    },
    {
     "data": {
      "text/plain": [
       "0.7985"
      ]
     },
     "execution_count": 81,
     "metadata": {},
     "output_type": "execute_result"
    }
   ],
   "source": [
    "log_reg.test_accuracy(a_fial,train_tags)"
   ]
  },
  {
   "cell_type": "code",
   "execution_count": null,
   "metadata": {},
   "outputs": [],
   "source": []
  }
 ],
 "metadata": {
  "kernelspec": {
   "display_name": "Python 3",
   "language": "python",
   "name": "python3"
  },
  "language_info": {
   "codemirror_mode": {
    "name": "ipython",
    "version": 3
   },
   "file_extension": ".py",
   "mimetype": "text/x-python",
   "name": "python",
   "nbconvert_exporter": "python",
   "pygments_lexer": "ipython3",
   "version": "3.6.5"
  }
 },
 "nbformat": 4,
 "nbformat_minor": 2
}
